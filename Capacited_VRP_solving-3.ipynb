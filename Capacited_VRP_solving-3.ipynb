{
  "cells": [
    {
      "cell_type": "code",
      "execution_count": null,
      "metadata": {
        "colab": {
          "base_uri": "https://localhost:8080/"
        },
        "id": "raiJIrxNhA5t",
        "outputId": "258232b6-8faf-4fa7-df8a-c3ed2a58be3d"
      },
      "outputs": [
        {
          "output_type": "stream",
          "name": "stdout",
          "text": [
            "Requirement already satisfied: networkx in /usr/local/lib/python3.10/dist-packages (3.3)\n",
            "Collecting pyomo\n",
            "  Downloading Pyomo-6.8.0-cp310-cp310-manylinux_2_17_x86_64.manylinux2014_x86_64.whl.metadata (8.0 kB)\n",
            "Collecting ply (from pyomo)\n",
            "  Downloading ply-3.11-py2.py3-none-any.whl.metadata (844 bytes)\n",
            "Downloading Pyomo-6.8.0-cp310-cp310-manylinux_2_17_x86_64.manylinux2014_x86_64.whl (13.3 MB)\n",
            "\u001b[2K   \u001b[90m━━━━━━━━━━━━━━━━━━━━━━━━━━━━━━━━━━━━━━━━\u001b[0m \u001b[32m13.3/13.3 MB\u001b[0m \u001b[31m24.3 MB/s\u001b[0m eta \u001b[36m0:00:00\u001b[0m\n",
            "\u001b[?25hDownloading ply-3.11-py2.py3-none-any.whl (49 kB)\n",
            "\u001b[2K   \u001b[90m━━━━━━━━━━━━━━━━━━━━━━━━━━━━━━━━━━━━━━━━\u001b[0m \u001b[32m49.6/49.6 kB\u001b[0m \u001b[31m2.3 MB/s\u001b[0m eta \u001b[36m0:00:00\u001b[0m\n",
            "\u001b[?25hInstalling collected packages: ply, pyomo\n",
            "Successfully installed ply-3.11 pyomo-6.8.0\n"
          ]
        }
      ],
      "source": [
        "!pip install networkx pyomo"
      ]
    },
    {
      "cell_type": "code",
      "source": [
        "!pip install -q condacolab\n",
        "import condacolab\n",
        "condacolab.install()"
      ],
      "metadata": {
        "colab": {
          "base_uri": "https://localhost:8080/"
        },
        "id": "9Vo6saSpzhoP",
        "outputId": "c2beb91e-3371-4ece-aceb-dc81218a2699"
      },
      "execution_count": null,
      "outputs": [
        {
          "output_type": "stream",
          "name": "stdout",
          "text": [
            "⏬ Downloading https://github.com/conda-forge/miniforge/releases/download/23.11.0-0/Mambaforge-23.11.0-0-Linux-x86_64.sh...\n",
            "📦 Installing...\n",
            "📌 Adjusting configuration...\n",
            "🩹 Patching environment...\n",
            "⏲ Done in 0:00:20\n",
            "🔁 Restarting kernel...\n"
          ]
        }
      ]
    },
    {
      "cell_type": "code",
      "source": [
        "!conda install glpk"
      ],
      "metadata": {
        "colab": {
          "base_uri": "https://localhost:8080/"
        },
        "id": "tU_guezE0EoP",
        "outputId": "5566bd50-1bed-4ea2-c95b-bd0c243cc790",
        "collapsed": true
      },
      "execution_count": null,
      "outputs": [
        {
          "output_type": "stream",
          "name": "stdout",
          "text": [
            "Channels:\n",
            " - conda-forge\n",
            "Platform: linux-64\n",
            "Collecting package metadata (repodata.json): - \b\b\\ \b\b| \b\b/ \b\b- \b\b\\ \b\b| \b\b/ \b\b- \b\b\\ \b\b| \b\b/ \b\b- \b\b\\ \b\b| \b\b/ \b\b- \b\b\\ \b\b| \b\b/ \b\b- \b\b\\ \b\b| \b\b/ \b\b- \b\b\\ \b\b| \b\b/ \b\b- \b\b\\ \b\b| \b\b/ \b\b- \b\b\\ \b\b| \b\b/ \b\b- \b\b\\ \b\b| \b\b/ \b\b- \b\b\\ \b\b| \b\b/ \b\b- \b\b\\ \b\b| \b\b/ \b\b- \b\b\\ \b\b| \b\b/ \b\b- \b\b\\ \b\b| \b\b/ \b\b- \b\b\\ \b\b| \b\b/ \b\b- \b\b\\ \b\b| \b\b/ \b\b- \b\b\\ \b\b| \b\b/ \b\b- \b\b\\ \b\b| \b\b/ \b\b- \b\b\\ \b\b| \b\b/ \b\b- \b\b\\ \b\b| \b\b/ \b\b- \b\b\\ \b\b| \b\b/ \b\b- \b\b\\ \b\b| \b\b/ \b\b- \b\b\\ \b\b| \b\b/ \b\b- \b\b\\ \b\b| \b\b/ \b\b- \b\b\\ \b\b| \b\b/ \b\b- \b\b\\ \b\b| \b\b/ \b\b- \b\b\\ \b\b| \b\b/ \b\b- \b\b\\ \b\b| \b\b/ \b\b- \b\b\\ \b\b| \b\b/ \b\b- \b\b\\ \b\b| \b\b/ \b\b- \b\b\\ \b\b| \b\b/ \b\b- \b\b\\ \b\b| \b\b/ \b\b- \b\b\\ \b\b| \b\b/ \b\b- \b\b\\ \b\b| \b\b/ \b\b- \b\b\\ \b\b| \b\b/ \b\b- \b\b\\ \b\b| \b\b/ \b\b- \b\b\\ \b\b| \b\b/ \b\b- \b\b\\ \b\b| \b\b/ \b\b- \b\b\\ \b\b| \b\b/ \b\b- \b\b\\ \b\b| \b\b/ \b\b- \b\b\\ \b\b| \b\b/ \b\b- \b\b\\ \b\b| \b\b/ \b\b- \b\b\\ \b\b| \b\b/ \b\b- \b\b\\ \b\b| \b\b/ \b\b- \b\b\\ \b\b| \b\b/ \b\b- \b\b\\ \b\b| \b\b/ \b\b- \b\b\\ \b\b| \b\b/ \b\b- \b\b\\ \b\b| \b\b/ \b\b- \b\b\\ \b\b| \b\b/ \b\b- \b\b\\ \b\b| \b\b/ \b\b- \b\b\\ \b\b| \b\b/ \b\b- \b\b\\ \b\b| \b\b/ \b\b- \b\b\\ \b\b| \b\b/ \b\b- \b\b\\ \b\b| \b\b/ \b\b- \b\b\\ \b\b| \b\b/ \b\b- \b\b\\ \b\b| \b\b/ \b\b- \b\b\\ \b\b| \b\b/ \b\b- \b\b\\ \b\b| \b\b/ \b\b- \b\b\\ \b\b| \b\b/ \b\b- \b\b\\ \b\b| \b\b/ \b\b- \b\b\\ \b\b| \b\b/ \b\b- \b\b\\ \b\b| \b\b/ \b\b- \b\b\\ \b\b| \b\b/ \b\b- \b\b\\ \b\b| \b\b/ \b\b- \b\b\\ \b\b| \b\b/ \b\b- \b\b\\ \b\bdone\n",
            "Solving environment: / \b\b- \b\b\\ \b\bdone\n",
            "\n",
            "\n",
            "==> WARNING: A newer version of conda exists. <==\n",
            "    current version: 23.11.0\n",
            "    latest version: 24.9.1\n",
            "\n",
            "Please update conda by running\n",
            "\n",
            "    $ conda update -n base -c conda-forge conda\n",
            "\n",
            "\n",
            "\n",
            "## Package Plan ##\n",
            "\n",
            "  environment location: /usr/local\n",
            "\n",
            "  added / updated specs:\n",
            "    - glpk\n",
            "\n",
            "\n",
            "The following packages will be downloaded:\n",
            "\n",
            "    package                    |            build\n",
            "    ---------------------------|-----------------\n",
            "    ca-certificates-2024.8.30  |       hbcca054_0         155 KB  conda-forge\n",
            "    certifi-2024.8.30          |     pyhd8ed1ab_0         160 KB  conda-forge\n",
            "    glpk-5.0                   |       h445213a_0        1023 KB  conda-forge\n",
            "    gmp-6.3.0                  |       hac33072_2         449 KB  conda-forge\n",
            "    libgcc-14.1.0              |       h77fa898_1         827 KB  conda-forge\n",
            "    libgcc-ng-14.1.0           |       h69a702a_1          51 KB  conda-forge\n",
            "    libgomp-14.1.0             |       h77fa898_1         449 KB  conda-forge\n",
            "    openssl-3.3.2              |       hb9d3cd8_0         2.8 MB  conda-forge\n",
            "    ------------------------------------------------------------\n",
            "                                           Total:         5.8 MB\n",
            "\n",
            "The following NEW packages will be INSTALLED:\n",
            "\n",
            "  glpk               conda-forge/linux-64::glpk-5.0-h445213a_0 \n",
            "  gmp                conda-forge/linux-64::gmp-6.3.0-hac33072_2 \n",
            "  libgcc             conda-forge/linux-64::libgcc-14.1.0-h77fa898_1 \n",
            "\n",
            "The following packages will be UPDATED:\n",
            "\n",
            "  ca-certificates                     2023.11.17-hbcca054_0 --> 2024.8.30-hbcca054_0 \n",
            "  certifi                           2023.11.17-pyhd8ed1ab_0 --> 2024.8.30-pyhd8ed1ab_0 \n",
            "  libgcc-ng                               13.2.0-h807b86a_3 --> 14.1.0-h69a702a_1 \n",
            "  libgomp                                 13.2.0-h807b86a_3 --> 14.1.0-h77fa898_1 \n",
            "  openssl                                  3.2.0-hd590300_1 --> 3.3.2-hb9d3cd8_0 \n",
            "\n",
            "\n",
            "\n",
            "Downloading and Extracting Packages:\n",
            "openssl-3.3.2        | 2.8 MB    | :   0% 0/1 [00:00<?, ?it/s]\n",
            "glpk-5.0             | 1023 KB   | :   0% 0/1 [00:00<?, ?it/s]\u001b[A\n",
            "\n",
            "libgcc-14.1.0        | 827 KB    | :   0% 0/1 [00:00<?, ?it/s]\u001b[A\u001b[A\n",
            "\n",
            "\n",
            "libgomp-14.1.0       | 449 KB    | :   0% 0/1 [00:00<?, ?it/s]\u001b[A\u001b[A\u001b[A\n",
            "\n",
            "\n",
            "\n",
            "gmp-6.3.0            | 449 KB    | :   0% 0/1 [00:00<?, ?it/s]\u001b[A\u001b[A\u001b[A\u001b[A\n",
            "\n",
            "\n",
            "\n",
            "\n",
            "certifi-2024.8.30    | 160 KB    | :   0% 0/1 [00:00<?, ?it/s]\u001b[A\u001b[A\u001b[A\u001b[A\u001b[A\n",
            "\n",
            "\n",
            "\n",
            "\n",
            "\n",
            "ca-certificates-2024 | 155 KB    | :   0% 0/1 [00:00<?, ?it/s]\u001b[A\u001b[A\u001b[A\u001b[A\u001b[A\u001b[A\n",
            "\n",
            "\n",
            "\n",
            "\n",
            "\n",
            "\n",
            "openssl-3.3.2        | 2.8 MB    | :   1% 0.005665696909421814/1 [00:00<00:29, 29.32s/it]\n",
            "glpk-5.0             | 1023 KB   | :   2% 0.01564415654850796/1 [00:00<00:10, 10.58s/it]\u001b[A\n",
            "\n",
            "libgcc-14.1.0        | 827 KB    | :   2% 0.01935773529620265/1 [00:00<00:09,  9.54s/it]\u001b[A\u001b[A\n",
            "\n",
            "\n",
            "\n",
            "gmp-6.3.0            | 449 KB    | :   4% 0.03561313321233331/1 [00:00<00:04,  4.99s/it]\u001b[A\u001b[A\u001b[A\u001b[A\n",
            "\n",
            "\n",
            "openssl-3.3.2        | 2.8 MB    | :  70% 0.702546416768305/1 [00:00<00:00,  3.18it/s]   \n",
            "\n",
            "\n",
            "\n",
            "\n",
            "certifi-2024.8.30    | 160 KB    | :  10% 0.10005373980165128/1 [00:00<00:02,  2.73s/it]\u001b[A\u001b[A\u001b[A\u001b[A\u001b[A\n",
            "\n",
            "\n",
            "\n",
            "\n",
            "\n",
            "\n",
            "libgcc-ng-14.1.0     | 51 KB     | :  31% 0.31405022043319913/1 [00:00<00:00,  1.07it/s]\u001b[A\u001b[A\u001b[A\u001b[A\u001b[A\u001b[A\u001b[A\n",
            "\n",
            "\n",
            "\n",
            "\n",
            "\n",
            "ca-certificates-2024 | 155 KB    | :  10% 0.10304208096702577/1 [00:00<00:02,  3.07s/it]\u001b[A\u001b[A\u001b[A\u001b[A\u001b[A\u001b[A\n",
            "\n",
            "\n",
            "\n",
            "gmp-6.3.0            | 449 KB    | : 100% 1.0/1 [00:00<00:00,  3.45it/s]                \u001b[A\u001b[A\u001b[A\u001b[A\n",
            "\n",
            "\n",
            "\n",
            "gmp-6.3.0            | 449 KB    | : 100% 1.0/1 [00:00<00:00,  3.45it/s]\u001b[A\u001b[A\u001b[A\u001b[A\n",
            "\n",
            "\n",
            "libgomp-14.1.0       | 449 KB    | : 100% 1.0/1 [00:00<00:00,  2.81it/s]                \u001b[A\u001b[A\u001b[A\n",
            "\n",
            "\n",
            "libgomp-14.1.0       | 449 KB    | : 100% 1.0/1 [00:00<00:00,  2.81it/s]\u001b[A\u001b[A\u001b[A\n",
            "\n",
            "libgcc-14.1.0        | 827 KB    | : 100% 1.0/1 [00:00<00:00,  2.16it/s]                \u001b[A\u001b[A\n",
            "\n",
            "libgcc-14.1.0        | 827 KB    | : 100% 1.0/1 [00:00<00:00,  2.16it/s]\u001b[A\u001b[A\n",
            "\n",
            "\n",
            "\n",
            "\n",
            "certifi-2024.8.30    | 160 KB    | : 100% 1.0/1 [00:00<00:00,  2.20it/s]                \u001b[A\u001b[A\u001b[A\u001b[A\u001b[A\n",
            "\n",
            "\n",
            "\n",
            "\n",
            "certifi-2024.8.30    | 160 KB    | : 100% 1.0/1 [00:00<00:00,  2.20it/s]\u001b[A\u001b[A\u001b[A\u001b[A\u001b[A\n",
            "\n",
            "\n",
            "\n",
            "\n",
            "\n",
            "\n",
            "libgcc-ng-14.1.0     | 51 KB     | : 100% 1.0/1 [00:00<00:00,  1.87it/s]                \u001b[A\u001b[A\u001b[A\u001b[A\u001b[A\u001b[A\u001b[A\n",
            "\n",
            "\n",
            "\n",
            "\n",
            "\n",
            "\n",
            "libgcc-ng-14.1.0     | 51 KB     | : 100% 1.0/1 [00:00<00:00,  1.87it/s]\u001b[A\u001b[A\u001b[A\u001b[A\u001b[A\u001b[A\u001b[A\n",
            "\n",
            "\n",
            "\n",
            "\n",
            "\n",
            "ca-certificates-2024 | 155 KB    | : 100% 1.0/1 [00:00<00:00,  1.96it/s]                \u001b[A\u001b[A\u001b[A\u001b[A\u001b[A\u001b[A\n",
            "\n",
            "\n",
            "\n",
            "\n",
            "\n",
            "ca-certificates-2024 | 155 KB    | : 100% 1.0/1 [00:00<00:00,  1.96it/s]\u001b[A\u001b[A\u001b[A\u001b[A\u001b[A\u001b[A\n",
            "glpk-5.0             | 1023 KB   | : 100% 1.0/1 [00:00<00:00,  1.39it/s]                \u001b[A\n",
            "                                                                        \n",
            "                                                                        \u001b[A\n",
            "\n",
            "                                                                        \u001b[A\u001b[A\n",
            "\n",
            "\n",
            "                                                                        \u001b[A\u001b[A\u001b[A\n",
            "\n",
            "\n",
            "\n",
            "                                                                        \u001b[A\u001b[A\u001b[A\u001b[A\n",
            "\n",
            "\n",
            "\n",
            "\n",
            "                                                                        \u001b[A\u001b[A\u001b[A\u001b[A\u001b[A\n",
            "\n",
            "\n",
            "\n",
            "\n",
            "\n",
            "                                                                        \u001b[A\u001b[A\u001b[A\u001b[A\u001b[A\u001b[A\n",
            "\n",
            "\n",
            "\n",
            "\n",
            "\n",
            "\n",
            "                                                                        \u001b[A\u001b[A\u001b[A\u001b[A\u001b[A\u001b[A\u001b[A\n",
            "Preparing transaction: / \b\bdone\n",
            "Verifying transaction: \\ \b\b| \b\bdone\n",
            "Executing transaction: - \b\b\\ \b\b| \b\b/ \b\b- \b\b\\ \b\b| \b\bdone\n"
          ]
        }
      ]
    },
    {
      "cell_type": "code",
      "execution_count": null,
      "metadata": {
        "id": "6OMqzOlBg6TO"
      },
      "outputs": [],
      "source": [
        "import time\n",
        "from itertools import cycle\n",
        "\n",
        "import numpy as np\n",
        "from scipy.spatial.distance import pdist, squareform\n",
        "import matplotlib.pyplot as plt\n",
        "import matplotlib as mpl\n",
        "import networkx as nx\n",
        "import pyomo.environ as pyo\n",
        "from pyomo.contrib.appsi.solvers.highs import Highs"
      ]
    },
    {
      "cell_type": "code",
      "execution_count": null,
      "metadata": {
        "id": "hVEvkvfUhK61"
      },
      "outputs": [],
      "source": [
        "np.random.seed(42)  # Results should be always the same\n",
        "\n",
        "N = 10\n",
        "demands = np.random.randint(1, 10, size=N)\n",
        "demands[0] = 0\n",
        "\n",
        "capacity = 15\n",
        "n_vehicles = 4\n",
        "\n",
        "coordinates = np.random.rand(N, 2)\n",
        "distances = squareform(pdist(coordinates, metric=\"euclidean\"))\n",
        "distances = np.round(distances, decimals=4)  # avoid numerical errors"
      ]
    },
    {
      "cell_type": "markdown",
      "metadata": {
        "id": "wv1bPrAwpDLT"
      },
      "source": [
        "Crear el modelo"
      ]
    },
    {
      "cell_type": "code",
      "execution_count": null,
      "metadata": {
        "id": "TaeQip52hSPR"
      },
      "outputs": [],
      "source": [
        "model = pyo.ConcreteModel(\"CVRP\")"
      ]
    },
    {
      "cell_type": "markdown",
      "metadata": {
        "id": "OXqPD5LJpuBO"
      },
      "source": [
        "Crear el conjunto de índices para las sumatorias"
      ]
    },
    {
      "cell_type": "code",
      "execution_count": null,
      "metadata": {
        "id": "2ePZOfuJhcHN"
      },
      "outputs": [],
      "source": [
        "model.V = pyo.Set( initialize=range(len(demands)) )\n",
        "model.A = pyo.Set( initialize=[(i, j) for i in model.V for j in model.V if i != j] )\n",
        "model.K = pyo.Set( initialize=range(n_vehicles) )"
      ]
    },
    {
      "cell_type": "markdown",
      "metadata": {
        "id": "pnk-SAiepzza"
      },
      "source": [
        "Creación de parámetros del modelo"
      ]
    },
    {
      "cell_type": "code",
      "execution_count": null,
      "metadata": {
        "id": "ieJBmNa8hcm4"
      },
      "outputs": [],
      "source": [
        "model.Q = pyo.Param( initialize=capacity )\n",
        "model.q = pyo.Param( model.V, initialize={i: d for (i, d) in enumerate(demands)} )\n",
        "model.c = pyo.Param( model.A, initialize={(i, j): distances[i, j] for (i, j) in model.A} )"
      ]
    },
    {
      "cell_type": "code",
      "execution_count": null,
      "metadata": {
        "id": "NgV427RDhpBl"
      },
      "outputs": [],
      "source": [
        "model.x = pyo.Var( model.A, model.K, within = pyo.Binary )\n",
        "model.y = pyo.Var( model.V, model.K, within = pyo.Binary )"
      ]
    },
    {
      "cell_type": "code",
      "execution_count": null,
      "metadata": {
        "id": "Qi_uVOTDkV8v"
      },
      "outputs": [],
      "source": [
        "model.obj = pyo.Objective(\n",
        "    expr=sum(\n",
        "        model.x[i, j, k] * model.c[i, j]\n",
        "        for (i, j) in model.A\n",
        "        for k in model.K\n",
        "    ),\n",
        "    sense=pyo.minimize,\n",
        ")"
      ]
    },
    {
      "cell_type": "code",
      "execution_count": null,
      "metadata": {
        "id": "hQPT5IMTlDjU"
      },
      "outputs": [],
      "source": [
        "for (i, j) in model.A:\n",
        "  for k in model.K:\n",
        "    print( model.x[i,j,k]*model.c[i, j] )"
      ]
    },
    {
      "cell_type": "markdown",
      "metadata": {
        "id": "VFCV-y50mW_r"
      },
      "source": [
        "$$\\sum_{k\\in K} \\sum_{ j \\in V} x_{i,j,k} = \\sum_{k\\in K} \\sum_{ j \\in V} x_{j,i,k} = 1$$"
      ]
    },
    {
      "cell_type": "code",
      "execution_count": null,
      "metadata": {
        "id": "iCJhsF5TlFnM"
      },
      "outputs": [],
      "source": [
        "# ligaduras\n",
        "\n",
        "def arcs_in(model, i):\n",
        "    if i == model.V.first():\n",
        "        return sum(model.x[:, i, :]) == len(model.K)\n",
        "    else:\n",
        "        return sum(model.x[:, i, :]) == 1.0\n",
        "\n",
        "\n",
        "def arcs_out(model, i):\n",
        "    if i == model.V.first():\n",
        "        return sum(model.x[i, :, :]) == len(model.K)\n",
        "    else:\n",
        "        return sum(model.x[i, :, :]) == 1.0\n",
        "\n",
        "\n",
        "def vehicle_assignment(model, i, k):\n",
        "    return sum(model.x[:, i, k]) == model.y[i, k]\n",
        "\n",
        "\n",
        "def comp_vehicle_assignment(model, i, k):\n",
        "    return sum(model.x[i, :, k]) == model.y[i, k]\n",
        "\n",
        "\n",
        "def capacity_constraint(model, k):\n",
        "    return sum(model.y[i, k] * model.q[i] for i in model.V) <= model.Q"
      ]
    },
    {
      "cell_type": "code",
      "source": [
        "model.arcs_in = pyo.Constraint(model.V, rule=arcs_in)\n",
        "model.arcs_out = pyo.Constraint(model.V, rule=arcs_out)\n",
        "model.vehicle_assignment = pyo.Constraint(model.V, model.K, rule=vehicle_assignment)\n",
        "model.comp_vehicle_assignment = pyo.Constraint(model.V, model.K, rule=comp_vehicle_assignment)\n",
        "model.capacity_constraint = pyo.Constraint(model.K, rule=capacity_constraint)"
      ],
      "metadata": {
        "id": "z3tsjuDl16NY"
      },
      "execution_count": null,
      "outputs": []
    },
    {
      "cell_type": "code",
      "source": [
        "def solve_step(model, solver):\n",
        "    sol = solver.solve(model)\n",
        "    return sol\n",
        "\n",
        "\n",
        "def solve(model, solver):\n",
        "    proceed = True\n",
        "    while True:\n",
        "        sol, proceed = solve_step(model, solver)\n",
        "        print(sol)\n",
        "    return sol"
      ],
      "metadata": {
        "id": "5Vp2CxuKwg-t"
      },
      "execution_count": null,
      "outputs": []
    },
    {
      "cell_type": "code",
      "source": [
        "solver = Highs()\n",
        "\n",
        "solver.highs_options = {\n",
        "    \"log_file\": \"Highs.log\",\n",
        "    \"mip_heuristic_effort\": 0.2,\n",
        "    \"mip_detect_symmetry\": True,\n",
        "    \"mip_rel_gap\": 1e-6,\n",
        "}"
      ],
      "metadata": {
        "id": "Iog_3MDNxXE4"
      },
      "execution_count": null,
      "outputs": []
    },
    {
      "cell_type": "code",
      "source": [
        "pyo.SolverFactory('glpk').solve(model).write()"
      ],
      "metadata": {
        "id": "655tlyOKxaBU"
      },
      "execution_count": null,
      "outputs": []
    },
    {
      "cell_type": "code",
      "source": [
        "model.display()"
      ],
      "metadata": {
        "id": "GxnkXd4k0v0U"
      },
      "execution_count": null,
      "outputs": []
    },
    {
      "cell_type": "code",
      "source": [
        "!pip install mip"
      ],
      "metadata": {
        "id": "qWto0cpj1KkT",
        "colab": {
          "base_uri": "https://localhost:8080/"
        },
        "outputId": "359235ec-a110-40a1-92a4-c1571662976e"
      },
      "execution_count": null,
      "outputs": [
        {
          "output_type": "stream",
          "name": "stdout",
          "text": [
            "Requirement already satisfied: mip in /usr/local/lib/python3.10/dist-packages (1.15.0)\n",
            "Requirement already satisfied: cffi==1.15.* in /usr/local/lib/python3.10/dist-packages (from mip) (1.15.1)\n",
            "Requirement already satisfied: pycparser in /usr/local/lib/python3.10/dist-packages (from cffi==1.15.*->mip) (2.22)\n"
          ]
        }
      ]
    },
    {
      "cell_type": "code",
      "source": [
        "from itertools import product\n",
        "from sys import stdout as out\n",
        "from mip import Model, xsum, minimize, BINARY\n",
        "\n",
        "# names of places to visit\n",
        "places = ['Antwerp', 'Bruges', 'C-Mine', 'Dinant', 'Ghent',\n",
        "          'Grand-Place de Bruxelles', 'Hasselt', 'Leuven',\n",
        "          'Mechelen', 'Mons', 'Montagne de Bueren', 'Namur',\n",
        "          'Remouchamps', 'Waterloo']\n",
        "\n",
        "# distances in an upper triangular matrix\n",
        "dists = [[83, 81, 113, 52, 42, 73, 44, 23, 91, 105, 90, 124, 57],\n",
        "         [161, 160, 39, 89, 151, 110, 90, 99, 177, 143, 193, 100],\n",
        "         [90, 125, 82, 13, 57, 71, 123, 38, 72, 59, 82],\n",
        "         [123, 77, 81, 71, 91, 72, 64, 24, 62, 63],\n",
        "         [51, 114, 72, 54, 69, 139, 105, 155, 62],\n",
        "         [70, 25, 22, 52, 90, 56, 105, 16],\n",
        "         [45, 61, 111, 36, 61, 57, 70],\n",
        "         [23, 71, 67, 48, 85, 29],\n",
        "         [74, 89, 69, 107, 36],\n",
        "         [117, 65, 125, 43],\n",
        "         [54, 22, 84],\n",
        "         [60, 44],\n",
        "         [97],\n",
        "         []]\n",
        "\n",
        "# number of nodes and list of vertices\n",
        "n, V = len(dists), set(range(len(dists)))\n",
        "\n",
        "# distances matrix\n",
        "c = [[0 if i == j\n",
        "      else dists[i][j-i-1] if j > i\n",
        "      else dists[j][i-j-1]\n",
        "      for j in V] for i in V]\n",
        "\n",
        "model = Model()\n",
        "\n",
        "# binary variables indicating if arc (i,j) is used on the route or not\n",
        "x = [ [model.add_var(var_type=BINARY) for j in V] for i in V ]\n",
        "\n",
        "# continuous variable to prevent subtours: each city will have a\n",
        "# different sequential id in the planned route except the first one\n",
        "y = [ model.add_var() for i in V ]\n",
        "\n",
        "# objective function: minimize the distance\n",
        "model.objective = minimize(xsum(c[i][j]*x[i][j] for i in V for j in V))\n",
        "\n",
        "# constraint : leave each city only once\n",
        "for i in V:\n",
        "    model += xsum(x[i][j] for j in V - {i}) == 1\n",
        "\n",
        "# constraint : enter each city only once\n",
        "for i in V:\n",
        "    model += xsum(x[j][i] for j in V - {i}) == 1\n",
        "\n",
        "# subtour elimination\n",
        "for (i, j) in product(V - {0}, V - {0}):\n",
        "    if i != j:\n",
        "        model += y[i] - (n+1)*x[i][j] >= y[j]-n\n",
        "\n",
        "# optimizing\n",
        "model.optimize()\n",
        "\n",
        "# checking if a solution was found\n",
        "if model.num_solutions:\n",
        "    out.write( 'route with total distance %g found: %s'% (model.objective_value, places[0]) )\n",
        "    nc = 0\n",
        "    while True:\n",
        "        nc = [ i for i in V if x[nc][i].x >= 0.99 ][0]\n",
        "        out.write(' -> %s' % places[nc])\n",
        "        if nc == 0:\n",
        "            break\n",
        "    out.write('\\n')"
      ],
      "metadata": {
        "colab": {
          "base_uri": "https://localhost:8080/"
        },
        "id": "kyeAhwOS7n9t",
        "outputId": "f0202fbd-c0c9-4d40-bc69-eec7d7540cbd"
      },
      "execution_count": null,
      "outputs": [
        {
          "output_type": "stream",
          "name": "stdout",
          "text": [
            "route with total distance 547 found: Antwerp -> Mechelen -> Leuven -> Hasselt -> C-Mine -> Montagne de Bueren -> Remouchamps -> Dinant -> Namur -> Mons -> Waterloo -> Grand-Place de Bruxelles -> Ghent -> Bruges -> Antwerp\n"
          ]
        }
      ]
    },
    {
      "cell_type": "code",
      "source": [],
      "metadata": {
        "id": "4x5tTXYM8ZBv"
      },
      "execution_count": null,
      "outputs": []
    }
  ],
  "metadata": {
    "colab": {
      "provenance": []
    },
    "kernelspec": {
      "display_name": "Python 3",
      "name": "python3"
    },
    "language_info": {
      "name": "python"
    }
  },
  "nbformat": 4,
  "nbformat_minor": 0
}