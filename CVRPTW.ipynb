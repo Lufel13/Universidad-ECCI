{
  "nbformat": 4,
  "nbformat_minor": 0,
  "metadata": {
    "colab": {
      "provenance": []
    },
    "kernelspec": {
      "name": "python3",
      "display_name": "Python 3"
    },
    "language_info": {
      "name": "python"
    }
  },
  "cells": [
    {
      "cell_type": "code",
      "source": [
        "!pip install mip"
      ],
      "metadata": {
        "colab": {
          "base_uri": "https://localhost:8080/"
        },
        "collapsed": true,
        "id": "5E8FrF4ewvHH",
        "outputId": "2c26c8f8-d828-43b9-def7-25c5545626f7"
      },
      "execution_count": null,
      "outputs": [
        {
          "output_type": "stream",
          "name": "stdout",
          "text": [
            "Requirement already satisfied: mip in /usr/local/lib/python3.10/dist-packages (1.15.0)\n",
            "Requirement already satisfied: cffi==1.15.* in /usr/local/lib/python3.10/dist-packages (from mip) (1.15.1)\n",
            "Requirement already satisfied: pycparser in /usr/local/lib/python3.10/dist-packages (from cffi==1.15.*->mip) (2.22)\n"
          ]
        }
      ]
    },
    {
      "cell_type": "code",
      "execution_count": null,
      "metadata": {
        "id": "FWFVnEWGwVr5"
      },
      "outputs": [],
      "source": [
        "from mip import Model, xsum, minimize, BINARY\n",
        "import math\n",
        "import matplotlib.pyplot as plt"
      ]
    },
    {
      "cell_type": "code",
      "source": [
        "# Parámetros del problema\n",
        "n_clients = 5  # número de clientes\n",
        "n_vehicles = 3  # reducido el número de vehículos\n",
        "vehicle_capacity = 40  # aumentada la capacidad\n",
        "\n",
        "# Coordenadas\n",
        "locations = [(0, 0), (10, 10), (15, 15), (5, 15), (20, 10), (15, 5)]\n",
        "\n",
        "# Demandas más pequeñas\n",
        "demands = [0, 3, 4, 2, 3, 3]\n",
        "\n",
        "# Distancias\n",
        "distances = [[math.dist(locations[i], locations[j]) for j in range(n_clients + 1)] for i in range(n_clients + 1)]\n"
      ],
      "metadata": {
        "id": "ZMRHuVlGwZsW"
      },
      "execution_count": null,
      "outputs": []
    },
    {
      "cell_type": "code",
      "source": [
        "x = [ li[0] for li in locations ]\n",
        "y = [ li[1] for li in locations ]\n",
        "\n",
        "plt.scatter(x, y)\n",
        "plt.show()"
      ],
      "metadata": {
        "colab": {
          "base_uri": "https://localhost:8080/",
          "height": 430
        },
        "id": "_iV8-5TZxt7H",
        "outputId": "72f39540-60c5-4d72-e824-a41d7828b888"
      },
      "execution_count": null,
      "outputs": [
        {
          "output_type": "display_data",
          "data": {
            "text/plain": [
              "<Figure size 640x480 with 1 Axes>"
            ],
            "image/png": "[encoded data removed]"
          },
          "metadata": {}
        }
      ]
    },
    {
      "cell_type": "code",
      "source": [
        "# Modelo\n",
        "model = Model()\n",
        "\n",
        "# Variables\n",
        "x = [[[model.add_var(var_type=BINARY) for j in range(n_clients + 1)] for i in range(n_clients + 1)] for k in range(n_vehicles)]\n",
        "t = [model.add_var() for i in range(n_clients + 1)]\n",
        "\n",
        "# Función objetivo\n",
        "model.objective = minimize(\n",
        "    xsum(distances[i][j] * x[k][i][j] for k in range(n_vehicles) for i in range(n_clients + 1) for j in range(n_clients + 1))\n",
        ")"
      ],
      "metadata": {
        "id": "yKGCOoGKwiIK"
      },
      "execution_count": null,
      "outputs": []
    },
    {
      "cell_type": "code",
      "source": [
        "# Restricciones básicas\n",
        "# Cada cliente debe ser visitado una vez\n",
        "for i in range(1, n_clients + 1):\n",
        "    model += xsum(x[k][i][j] for k in range(n_vehicles) for j in range(n_clients + 1) if i != j) == 1\n",
        "\n",
        "# Cada vehículo debe salir del depósito\n",
        "for k in range(n_vehicles):\n",
        "    model += xsum(x[k][0][j] for j in range(1, n_clients + 1)) == 1\n",
        "    model += xsum(x[k][i][0] for i in range(1, n_clients + 1)) == 1\n",
        "\n",
        "# Conservación de flujo\n",
        "for k in range(n_vehicles):\n",
        "    for h in range(n_clients + 1):\n",
        "        model += xsum(x[k][i][h] for i in range(n_clients + 1) if i != h) == \\\n",
        "                 xsum(x[k][h][j] for j in range(n_clients + 1) if j != h)\n",
        "\n",
        "# Capacidad del vehículo\n",
        "for k in range(n_vehicles):\n",
        "    model += xsum(demands[i] * xsum(x[k][i][j] for j in range(n_clients + 1) if i != j)\n",
        "                 for i in range(1, n_clients + 1)) <= vehicle_capacity\n",
        "\n",
        "# Tiempo entre nodos\n",
        "M = 50\n",
        "for k in range(n_vehicles):\n",
        "    for i in range(n_clients + 1):\n",
        "        for j in range(1, n_clients + 1):\n",
        "            if i != j:\n",
        "                model += t[j] >= t[i] + distances[i][j] - M * (1 - x[k][i][j])"
      ],
      "metadata": {
        "id": "4rzwl01Dwk-C"
      },
      "execution_count": null,
      "outputs": []
    },
    {
      "cell_type": "code",
      "source": [
        "# Optimización\n",
        "model.optimize(max_seconds=300)\n",
        "\n",
        "# Mostrar resultados\n",
        "if model.num_solutions:\n",
        "    for k in range(n_vehicles):\n",
        "        route = []\n",
        "        times = []\n",
        "        current = 0\n",
        "        route_load = 0\n",
        "\n",
        "        while True:\n",
        "            route.append(current)\n",
        "            times.append(t[current].x if current != 0 else 0)\n",
        "            next_node = -1\n",
        "\n",
        "            for j in range(n_clients + 1):\n",
        "                if current != j and x[k][current][j].x >= 0.99:\n",
        "                    next_node = j\n",
        "                    if j != 0:\n",
        "                        route_load += demands[j]\n",
        "                    break\n",
        "\n",
        "            if next_node == -1 or next_node == 0:\n",
        "                if next_node == 0:\n",
        "                    route.append(0)\n",
        "                    times.append(0)  # tiempo de regreso al depósito\n",
        "                break\n",
        "            current = next_node\n",
        "\n",
        "        if len(route) > 2:\n",
        "            print(f\"\\nVehículo {k + 1}:\")\n",
        "            print(f\"Ruta: {' -> '.join(map(str, route))}\")\n",
        "            print(f\"Carga: {route_load}\")\n",
        "            print(f\"Tiempos de llegada: {[round(t, 2) for t in times]}\")\n",
        "            route_length = sum(distances[route[i]][route[i+1]] for i in range(len(route)-1))\n",
        "            print(f\"Longitud de ruta: {route_length:.2f}\")\n",
        "else:\n",
        "    print(\"No se encontró solución\")"
      ],
      "metadata": {
        "colab": {
          "base_uri": "https://localhost:8080/"
        },
        "id": "NpdXKNX4wo65",
        "outputId": "67928100-88aa-4c37-98c7-7d197768d682"
      },
      "execution_count": null,
      "outputs": [
        {
          "output_type": "stream",
          "name": "stdout",
          "text": [
            "\n",
            "Vehículo 1:\n",
            "Ruta: 0 -> 3 -> 0\n",
            "Carga: 2\n",
            "Tiempos de llegada: [0, 15.81, 0]\n",
            "Longitud de ruta: 31.62\n",
            "\n",
            "Vehículo 2:\n",
            "Ruta: 0 -> 1 -> 0\n",
            "Carga: 3\n",
            "Tiempos de llegada: [0, 14.14, 0]\n",
            "Longitud de ruta: 28.28\n",
            "\n",
            "Vehículo 3:\n",
            "Ruta: 0 -> 5 -> 4 -> 2 -> 0\n",
            "Carga: 10\n",
            "Tiempos de llegada: [0, 15.81, 22.88, 55.81, 0]\n",
            "Longitud de ruta: 51.17\n"
          ]
        }
      ]
    },
    {
      "cell_type": "code",
      "source": [],
      "metadata": {
        "id": "2wVi4r9Egw52"
      },
      "execution_count": null,
      "outputs": []
    }
  ]
}